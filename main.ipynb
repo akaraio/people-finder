{
 "cells": [
  {
   "cell_type": "code",
   "execution_count": null,
   "metadata": {
    "executionInfo": {
     "elapsed": 644,
     "status": "ok",
     "timestamp": 1733706159160,
     "user": {
      "displayName": "akara",
      "userId": "03294495074658875410"
     },
     "user_tz": -120
    },
    "id": "vJxmZlNboB6V"
   },
   "outputs": [],
   "source": [
    "import cv2"
   ]
  },
  {
   "cell_type": "code",
   "execution_count": 2,
   "metadata": {
    "executionInfo": {
     "elapsed": 1559,
     "status": "ok",
     "timestamp": 1733706160717,
     "user": {
      "displayName": "akara",
      "userId": "03294495074658875410"
     },
     "user_tz": -120
    },
    "id": "EjVJ8u24oEuz"
   },
   "outputs": [],
   "source": [
    "cap = cv2.VideoCapture('data')"
   ]
  },
  {
   "cell_type": "code",
   "execution_count": 3,
   "metadata": {
    "executionInfo": {
     "elapsed": 4,
     "status": "ok",
     "timestamp": 1733706160718,
     "user": {
      "displayName": "akara",
      "userId": "03294495074658875410"
     },
     "user_tz": -120
    },
    "id": "H8BJKkQuqQ6F"
   },
   "outputs": [],
   "source": [
    "motion_detector = cv2.createBackgroundSubtractorMOG2()"
   ]
  },
  {
   "cell_type": "code",
   "execution_count": 4,
   "metadata": {
    "executionInfo": {
     "elapsed": 4,
     "status": "ok",
     "timestamp": 1733706160718,
     "user": {
      "displayName": "akara",
      "userId": "03294495074658875410"
     },
     "user_tz": -120
    },
    "id": "ptRhLsq0srSt"
   },
   "outputs": [],
   "source": [
    "# output = cv2.VideoWriter('data', cv2.VideoWriter_fourcc(*'MP4V'), 20.0, (640,480))\n",
    "output = cv2.VideoWriter('data', cv2.VideoWriter_fourcc(*'MPEG'), 30, (1080, 1920))"
   ]
  },
  {
   "cell_type": "code",
   "execution_count": null,
   "metadata": {
    "colab": {
     "base_uri": "https://localhost:8080/",
     "height": 211
    },
    "executionInfo": {
     "elapsed": 199825,
     "status": "error",
     "timestamp": 1733706362708,
     "user": {
      "displayName": "akara",
      "userId": "03294495074658875410"
     },
     "user_tz": -120
    },
    "id": "eKN0gDk-qawW",
    "outputId": "adddd23f-8a7f-4aaa-8a2f-60c33903c6c9"
   },
   "outputs": [],
   "source": [
    "while True:\n",
    "  ret, frame = cap.read()\n",
    "\n",
    "  if(ret):\n",
    "\n",
    "    mask = motion_detector.apply(frame)\n",
    "    contour, _ = cv2.findContours(mask, cv2.RETR_TREE, cv2.CHAIN_APPROX_SIMPLE)\n",
    "\n",
    "    for line in contour:\n",
    "      area = cv2.contourArea(line)\n",
    "      if area < 120:\n",
    "        cv2.drawContours(frame, [line], -1, (0, 255, 0), 1)\n",
    "\n",
    "    output.write(frame)"
   ]
  }
 ],
 "metadata": {
  "accelerator": "GPU",
  "colab": {
   "authorship_tag": "ABX9TyPFqKPJ63AzZ/j3mtxjRbes",
   "gpuType": "T4",
   "mount_file_id": "1TU9GS9byxzuKjqiiTi84l9ehnTBdMceg",
   "provenance": []
  },
  "kernelspec": {
   "display_name": "Python 3",
   "name": "python3"
  },
  "language_info": {
   "name": "python",
   "version": "3.12.8"
  }
 },
 "nbformat": 4,
 "nbformat_minor": 0
}
